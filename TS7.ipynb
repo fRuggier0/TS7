{
 "cells": [
  {
   "cell_type": "markdown",
   "id": "8e030803-1e68-477d-9c8b-9a836d4f3d14",
   "metadata": {},
   "source": [
    "# Tarea semanal 7\n",
    "\n",
    "#### Franco Ruggiero"
   ]
  },
  {
   "cell_type": "markdown",
   "id": "097fcdb5-83d3-4eac-a711-8a5aab71ce11",
   "metadata": {},
   "source": [
    "1) *Para el siguiente cuadripolo se pide calcular los parámetros Z*\n",
    "<center><img src=\"image1.png\" style=\"width:600px ; height:400px\"> <center> \n",
    "\n",
    "    \n",
    "Bonus:\n",
    "- 💎 Simular en SPICE los parámetros de cuadripolo con la directiva .net\n",
    "- 🎓 Verifique mediante el módulo de simulación simbólica SymPy la impedancia de entrada "
   ]
  },
  {
   "cell_type": "markdown",
   "id": "11cd5b22-2641-48ac-9497-ee3d64e30750",
   "metadata": {},
   "source": [
    "<center><img src=\"1_1.jpg\" style=\"width:650px ; height:200px\"> <center> \n",
    "<center><img src=\"1_2.jpg\" style=\"width:650px ; height:600px\"> <center> \n",
    "<center><img src=\"1_3.jpg\" style=\"width:650px ; height:850px\"> <center> \n"
   ]
  },
  {
   "cell_type": "markdown",
   "id": "731c8e23-6a09-4f5a-a0d6-4102f610615c",
   "metadata": {},
   "source": [
    "2. *Dado el siguiente circuito:*\n",
    "   <center><img src=\"image2.png\" style=\"width:600px ; height:300px\"> <center>\n",
    "\n",
    "- Obtener la transferencia de tensión $\\frac{V_o}{V_i}$ por método de cuadripolos (se sugiere referirse a alguno de los métodos de interconexión ya vistos). Ayuda: $C_2 = \\frac{4}{3}$ (se utilizó 1.333 para la simulación), los polos de la transferencia están ubicados sobre una circunferencia de radio unitario.\n",
    "\n",
    "- Construya la matriz de admitancia indefinida (MAI) del circuito.\n",
    "\n",
    "- Compute la misma transferencia de tensión $\\frac{V_o}{V_i}$ mediante MAI.\n",
    "\n",
    "\n",
    "Bonus:\n",
    "- 💎 Simular en SPICE  para verificar la transferencia.\n",
    "- 🤯 Compute la impedancia de entrada con la MAI.\n",
    "- 🤯 Presentación en jupyter notebook"
   ]
  },
  {
   "cell_type": "markdown",
   "id": "8b0659f0-91fa-4a6d-8764-e0024ccdaa01",
   "metadata": {},
   "source": [
    "<center><img src=\"2_1.jpg\" style=\"width:600px ; height:700px\"> <center> \n",
    "<center><img src=\"2_2.jpg\" style=\"width:600px ; height:700px\"> <center> \n",
    "<center><img src=\"2_3.jpg\" style=\"width:600px ; height:800px\"> <center> \n",
    "<center><img src=\"2_4.jpg\" style=\"width:600px ; height:650px\"> <center> \n"
   ]
  },
  {
   "cell_type": "markdown",
   "id": "4cb33847-2af5-4f2a-928d-9d5e1ae83166",
   "metadata": {},
   "source": [
    "#### *Simulacion en LTSpice (Pasa bajos butterworth de $3^{er}$ orden):*"
   ]
  },
  {
   "cell_type": "markdown",
   "id": "a7bacafd-ac1b-4a92-8fa3-2312aedb0160",
   "metadata": {},
   "source": [
    "<center><img src=\"Draft2.png\" style=\"width:600px ; height:250px\"> <center> \n",
    "<center><img src=\"simulacion_TransferenciaV_2.png\" style=\"width:850px ; height:500px\"> <center>"
   ]
  },
  {
   "cell_type": "code",
   "execution_count": 13,
   "id": "5fef371c-f1bd-4c46-b8c8-a991fba3474a",
   "metadata": {},
   "outputs": [],
   "source": [
    "import sympy as sp\n",
    "\n",
    "from pytc2.cuadripolos import calc_MAI_impedance_ij, calc_MAI_vtransf_ij_mn, calc_MAI_ztransf_ij_mn\n",
    "from pytc2.general import print_latex\n",
    "\n",
    "# '''    \n",
    "# + Numeramos los polos de 0 a n=3\n",
    "\n",
    "#     1-------+--Y1----2---Y3-----3\n",
    "#                      |           /\n",
    "#                     Y2           / R\n",
    "#                      |           /\n",
    "#     0----------------+----------0\n",
    "    \n",
    "# '''    \n",
    "'''    \n",
    "+ Numeramos los polos de 0 a n=3\n",
    "\n",
    "    0-------+--Y1----2---Y3-----3\n",
    "                     |           /\n",
    "                    Y2           / R\n",
    "                     |           /\n",
    "    1----------------+----------1\n",
    "    \n",
    "'''    \n",
    "\n",
    "# definición de puertos. El primer nodo marca el sentido positivo de la tensión. V1 = V[input_port[0]] - V[input_port[1]]\n",
    "input_port = [0, 1]\n",
    "output_port = [3, 1]\n",
    "\n",
    "Y1, Y2, Y3 = sp.symbols('Y1 Y2 Y3', complex=True)\n",
    "G = sp.symbols('G', real=True, positive=True)\n",
    "\n",
    "# Armo la MAI\n",
    "\n",
    "#               Nodos: 0      1        2        3\n",
    "Ymai = sp.Matrix([  \n",
    "                    [ Y1,     0,     -Y1,       0],\n",
    "                    [  0,   Y2+G,    -Y2,      -G],\n",
    "                    [-Y1,   -Y2,   Y1+Y2+Y3,   -Y3],\n",
    "                    [  0,    -G,     -Y3,     Y3+G]\n",
    "                 ])\n",
    "\n",
    "s = sp.symbols('s ', complex=True)\n",
    "\n",
    "# Butter de 3er orden simplemente cargado\n",
    "Ymai = Ymai.subs(Y1, 1/s/sp.Rational('3/2'))\n",
    "Ymai = Ymai.subs(Y3, 1/s/sp.Rational('1/2'))\n",
    "Ymai = Ymai.subs(Y2, s*sp.Rational('4/3'))\n",
    "Ymai = Ymai.subs(G, sp.Rational('1'))\n",
    "\n",
    "# con_detalles = False\n",
    "con_detalles = True"
   ]
  },
  {
   "cell_type": "code",
   "execution_count": 14,
   "id": "af42f39e-5231-4d8e-bb1e-afb7baa494dd",
   "metadata": {},
   "outputs": [
    {
     "name": "stdout",
     "output_type": "stream",
     "text": [
      "Transferencia de tensión:\n"
     ]
    },
    {
     "data": {
      "text/latex": [
       "$\\displaystyle  [Y_{MAI}] = \\left[\\begin{matrix}\\frac{2}{3 s} & 0 & - \\frac{2}{3 s} & 0\\\\0 & \\frac{4 s}{3} + 1 & - \\frac{4 s}{3} & -1\\\\- \\frac{2}{3 s} & - \\frac{4 s}{3} & \\frac{4 s}{3} + \\frac{8}{3 s} & - \\frac{2}{s}\\\\0 & -1 & - \\frac{2}{s} & 1 + \\frac{2}{s}\\end{matrix}\\right]$"
      ],
      "text/plain": [
       "<IPython.core.display.Math object>"
      ]
     },
     "metadata": {},
     "output_type": "display_data"
    },
    {
     "data": {
      "text/latex": [
       "$\\displaystyle  [Y^{ 01 }_{ 31 } ] = \\left[\\begin{matrix}- \\frac{2}{3 s} & 0\\\\\\frac{4 s}{3} + \\frac{8}{3 s} & - \\frac{2}{s}\\end{matrix}\\right]$"
      ],
      "text/plain": [
       "<IPython.core.display.Math object>"
      ]
     },
     "metadata": {},
     "output_type": "display_data"
    },
    {
     "data": {
      "text/latex": [
       "$\\displaystyle [Y^{ 01 }_{ 01 } ] = \\left[\\begin{matrix}\\frac{4 s}{3} + \\frac{8}{3 s} & - \\frac{2}{s}\\\\- \\frac{2}{s} & 1 + \\frac{2}{s}\\end{matrix}\\right]$"
      ],
      "text/plain": [
       "<IPython.core.display.Math object>"
      ]
     },
     "metadata": {},
     "output_type": "display_data"
    },
    {
     "data": {
      "text/latex": [
       "$\\displaystyle T^{ 31 }_{ 01 } = \\frac{ \\underline{Y}^{ 01 }_{ 31 } }{ \\underline{Y}^{ 01 }_{ 01 } } =  -1^{ 5 } \\frac{{ \\frac{4}{3 s^{2}}}}{{\\frac{4 \\left(s^{2} \\left(s + 2\\right) + 2 s + 1\\right)}{3 s^{2}}}} = - \\frac{1}{s^{2} \\left(s + 2\\right) + 2 s + 1}$"
      ],
      "text/plain": [
       "<IPython.core.display.Math object>"
      ]
     },
     "metadata": {},
     "output_type": "display_data"
    },
    {
     "data": {
      "text/latex": [
       "$\\displaystyle T^{ 31 }_{ 01 } = - \\frac{1}{s^{2} \\left(s + 2\\right) + 2 s + 1}$"
      ],
      "text/plain": [
       "<IPython.core.display.Math object>"
      ]
     },
     "metadata": {},
     "output_type": "display_data"
    }
   ],
   "source": [
    "print('Transferencia de tensión:')\n",
    "Vmai = calc_MAI_vtransf_ij_mn(Ymai, output_port[0], output_port[1], input_port[0], input_port[1], verbose=con_detalles)\n",
    "Vmai_sym = sp.simplify(Vmai.subs(Y3, Y1))\n",
    "\n",
    "print_latex( r'T^{{ {:d}{:d} }}_{{ {:d}{:d} }} = '.format(output_port[0], output_port[1], input_port[0], input_port[1]) +  sp.latex(Vmai) )\n"
   ]
  },
  {
   "cell_type": "code",
   "execution_count": 17,
   "id": "c3edd9b3-af68-4ca6-9b19-d68d6de99ed6",
   "metadata": {},
   "outputs": [
    {
     "name": "stdout",
     "output_type": "stream",
     "text": [
      "Impedancia de entrada:\n"
     ]
    },
    {
     "data": {
      "text/latex": [
       "$\\displaystyle  [Y_{MAI}] = \\left[\\begin{matrix}\\frac{2}{3 s} & 0 & - \\frac{2}{3 s} & 0\\\\0 & \\frac{4 s}{3} + 1 & - \\frac{4 s}{3} & -1\\\\- \\frac{2}{3 s} & - \\frac{4 s}{3} & \\frac{4 s}{3} + \\frac{8}{3 s} & - \\frac{2}{s}\\\\0 & -1 & - \\frac{2}{s} & 1 + \\frac{2}{s}\\end{matrix}\\right]$"
      ],
      "text/plain": [
       "<IPython.core.display.Math object>"
      ]
     },
     "metadata": {},
     "output_type": "display_data"
    },
    {
     "data": {
      "text/latex": [
       "$\\displaystyle  [Y^{ 00 }_{ 11 } ] = \\left[\\begin{matrix}\\frac{4 s}{3} + \\frac{8}{3 s} & - \\frac{2}{s}\\\\- \\frac{2}{s} & 1 + \\frac{2}{s}\\end{matrix}\\right]$"
      ],
      "text/plain": [
       "<IPython.core.display.Math object>"
      ]
     },
     "metadata": {},
     "output_type": "display_data"
    },
    {
     "data": {
      "text/latex": [
       "$\\displaystyle [Y^{ 0 }_{ 0 }] = \\left[\\begin{matrix}\\frac{4 s}{3} + 1 & - \\frac{4 s}{3} & -1\\\\- \\frac{4 s}{3} & \\frac{4 s}{3} + \\frac{8}{3 s} & - \\frac{2}{s}\\\\-1 & - \\frac{2}{s} & 1 + \\frac{2}{s}\\end{matrix}\\right]$"
      ],
      "text/plain": [
       "<IPython.core.display.Math object>"
      ]
     },
     "metadata": {},
     "output_type": "display_data"
    },
    {
     "data": {
      "text/latex": [
       "$\\displaystyle Z_{ 01 } = \\frac{ \\underline{Y}^{ 00 }_{ 11 } }{ \\underline{Y}^{ 0 }_{ 0 } } = \\frac{3 \\left(s^{2} \\left(s + 2\\right) + 2 s + 1\\right)}{2 s^{2} + 4 s + 3}$"
      ],
      "text/plain": [
       "<IPython.core.display.Math object>"
      ]
     },
     "metadata": {},
     "output_type": "display_data"
    },
    {
     "data": {
      "text/latex": [
       "$\\displaystyle Z_{ 01 } = \\frac{3 \\left(s^{2} \\left(s + 2\\right) + 2 s + 1\\right)}{2 s^{2} + 4 s + 3}$"
      ],
      "text/plain": [
       "<IPython.core.display.Math object>"
      ]
     },
     "metadata": {},
     "output_type": "display_data"
    }
   ],
   "source": [
    "# Calculo la Z en el puerto de entrada a partir de la MAI\n",
    "print('Impedancia de entrada:')\n",
    "Zmai = calc_MAI_impedance_ij(Ymai, input_port[0], input_port[1], verbose=con_detalles)\n",
    "\n",
    "print_latex( r'Z_{{ {:d}{:d} }} = '.format(0,1) +  sp.latex(Zmai) )"
   ]
  },
  {
   "cell_type": "code",
   "execution_count": null,
   "id": "ac22cd5b-a18e-4af7-8b9d-1b7e6e5afb16",
   "metadata": {},
   "outputs": [],
   "source": []
  }
 ],
 "metadata": {
  "kernelspec": {
   "display_name": "Python 3 (ipykernel)",
   "language": "python",
   "name": "python3"
  },
  "language_info": {
   "codemirror_mode": {
    "name": "ipython",
    "version": 3
   },
   "file_extension": ".py",
   "mimetype": "text/x-python",
   "name": "python",
   "nbconvert_exporter": "python",
   "pygments_lexer": "ipython3",
   "version": "3.10.12"
  }
 },
 "nbformat": 4,
 "nbformat_minor": 5
}
